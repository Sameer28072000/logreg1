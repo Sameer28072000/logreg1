{
 "cells": [
  {
   "cell_type": "markdown",
   "id": "79e116d5-23f4-4ba2-9da5-9cb1dcbe4d7c",
   "metadata": {},
   "source": [
    "Q1. Explain the difference between linear regression and logistic regression models. Provide an example of\n",
    "a scenario where logistic regression would be more appropriate."
   ]
  },
  {
   "cell_type": "code",
   "execution_count": null,
   "id": "fe636175-15f3-4542-8d21-32ad207cb27a",
   "metadata": {},
   "outputs": [],
   "source": [
    "Ans:-\n",
    "    Linear regression------->To solve regression problem dependent variable is continous.\n",
    "    Logistic regression------->To solve the classification problem dependent variable is binary or multi class classification."
   ]
  },
  {
   "cell_type": "markdown",
   "id": "5690287a-3713-4faf-9aba-b4f814627fab",
   "metadata": {},
   "source": [
    "Q2. What is the cost function used in logistic regression, and how is it optimized?"
   ]
  },
  {
   "cell_type": "code",
   "execution_count": null,
   "id": "de5699d8-124e-4b0d-9e91-f3f333d0f6b4",
   "metadata": {},
   "outputs": [],
   "source": [
    "Ans:-Logistic function,cost function is also known as loss function.\n",
    "     The goal is to minimize the cost function during train the model.\n",
    "     Entropy loss is the cost function of logistic regression."
   ]
  },
  {
   "cell_type": "markdown",
   "id": "97af5740-83df-4b04-af43-8a2083aa08b8",
   "metadata": {},
   "source": [
    "Q3. Explain the concept of regularization in logistic regression and how it helps prevent overfitting."
   ]
  },
  {
   "cell_type": "code",
   "execution_count": null,
   "id": "9877a95c-0fc2-4ac4-ba60-61c1ada8d41e",
   "metadata": {},
   "outputs": [],
   "source": [
    "Ans:-Regularization hepls to control the complexity of the model.\n",
    "     Regularization is the technique to reduce the overfitting.\n",
    "    i.Lasso regularization(L1)------>feature elimination.\n",
    "    ii.Ridge regularization(L2)"
   ]
  },
  {
   "cell_type": "markdown",
   "id": "cb91896b-9303-4cd4-bec5-26a2a3715c5a",
   "metadata": {},
   "source": [
    "Q4. What is the ROC curve, and how is it used to evaluate the performance of the logistic regression\n",
    "model?"
   ]
  },
  {
   "cell_type": "code",
   "execution_count": null,
   "id": "9b00335d-9a17-4dbe-a85f-002e83e2464c",
   "metadata": {},
   "outputs": [],
   "source": [
    "Ans:-Receiver operating characteristics (ROC)curve is graphical representation which is used to solve\n",
    "     classification problem(Binary).\n",
    "    (ROC)curve  is graphical representation between true positive rate(TPR) & false positive rate(FPR)."
   ]
  },
  {
   "cell_type": "markdown",
   "id": "b4f43490-b4ae-4c24-a016-83042c5358cf",
   "metadata": {},
   "source": [
    "Q5. What are some common techniques for feature selection in logistic regression? How do these\n",
    "techniques help improve the model's performance?"
   ]
  },
  {
   "cell_type": "code",
   "execution_count": null,
   "id": "6c01f64c-7b24-4286-9988-8c7346202717",
   "metadata": {},
   "outputs": [],
   "source": [
    "Ans:-\n",
    "    i.Univariate\n",
    "    ii.(RFE) Recursive feature elimination\n",
    "    iii.Regularization\n",
    "    iv.Entropy\n",
    "    v.(PCA)Principal component analysis\n",
    "    \n",
    "    \n",
    "    To reduce overfitting\n",
    "    MOdel in simple Nature\n",
    "    Imporvement in model efficiency"
   ]
  },
  {
   "cell_type": "markdown",
   "id": "fa17cc2c-8ed2-4d29-8282-4762ffdae661",
   "metadata": {},
   "source": [
    "Q6. How can you handle imbalanced datasets in logistic regression? What are some strategies for dealing\n",
    "with class imbalance?"
   ]
  },
  {
   "cell_type": "code",
   "execution_count": null,
   "id": "26eef4cc-db45-41d1-bcaa-2441c2fb2f38",
   "metadata": {},
   "outputs": [],
   "source": [
    "Ans:-\n",
    "     i.Resampling Technique\n",
    "      ii.Ensemble Method\n",
    "        iii.Anomaly detection"
   ]
  },
  {
   "cell_type": "markdown",
   "id": "2c330dec-cfa8-4dce-b6e0-7715a751a2e7",
   "metadata": {},
   "source": [
    "Q7. Can you discuss some common issues and challenges that may arise when implementing logistic\n",
    "regression, and how they can be addressed? For example, what can be done if there is multicollinearity\n",
    "among the independent variables?"
   ]
  },
  {
   "cell_type": "code",
   "execution_count": null,
   "id": "3954bef5-f4e3-45a6-9d1a-f338c8ba8e56",
   "metadata": {},
   "outputs": [],
   "source": [
    "Ans:-\n",
    "     i.outlier\n",
    "     ii."
   ]
  }
 ],
 "metadata": {
  "kernelspec": {
   "display_name": "Python 3 (ipykernel)",
   "language": "python",
   "name": "python3"
  },
  "language_info": {
   "codemirror_mode": {
    "name": "ipython",
    "version": 3
   },
   "file_extension": ".py",
   "mimetype": "text/x-python",
   "name": "python",
   "nbconvert_exporter": "python",
   "pygments_lexer": "ipython3",
   "version": "3.10.8"
  }
 },
 "nbformat": 4,
 "nbformat_minor": 5
}
